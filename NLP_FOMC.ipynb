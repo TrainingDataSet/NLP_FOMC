{
 "cells": [
  {
   "cell_type": "markdown",
   "id": "fab24957",
   "metadata": {},
   "source": [
    "# 크롤링"
   ]
  },
  {
   "cell_type": "code",
   "execution_count": 25,
   "id": "17dac2a6",
   "metadata": {},
   "outputs": [],
   "source": [
    "import requests\n",
    "from bs4 import BeautifulSoup\n",
    "\n",
    "url = \"https://www.federalreserve.gov/fomc/minutes/20060629.htm\"\n",
    "selector = \"table > tr > td\"\n",
    "\n",
    "html = requests.get(url)\n",
    "soup = BeautifulSoup(html.text, \"lxml\")\n",
    "txt = soup.select(selector)\n"
   ]
  },
  {
   "cell_type": "code",
   "execution_count": 37,
   "id": "c9851994",
   "metadata": {},
   "outputs": [
    {
     "name": "stdout",
     "output_type": "stream",
     "text": [
      "\n",
      "By unanimous vote, the Committee approved a \"Report and Plan of the Federal Open Market Committee to Improve FOIA Operations\" and approved a delegation of authority to the Chairman (or his designee) to take actions required under the Freedom of Information Act.  \r\n",
      "\r\n",
      "The Manager of the System Open Market Account reported on recent developments in foreign exchange markets.  There were no open market operations in foreign currencies for the System's account in the period since the previous meeting.  The Manager also reported on developments in domestic financial markets and on System open market transactions in government securities and federal agency obligations during the period since the previous meeting.  By unanimous vote, the Committee ratified these transactions.  \r\n",
      "\r\n",
      "The information reviewed at the June meeting suggested that the growth of economic activity in the second quarter slowed substantially from its rapid first-quarter pace.  The expansion of consumer spending softened, and activity in the housing market continued to cool.  In contrast, the underlying rate of business spending remained strong and was well supported by fundamentals.  The demand for labor appeared to moderate as hiring stepped down in recent months.  Consumer price inflation remained elevated in April and May, reflecting sharp rises in energy prices and more rapid increases in core prices.\r\n",
      "\r\n",
      "Gains in nonfarm private payrolls averaged 112,000 over the three months ending in May, a pace considerably below the average of about 170,000 jobs per month for the prior three-month period.  The slowing in hiring was most pronounced in retail trade but was also evident in construction and information services.  Establishments in professional and business services, nonbusiness services, and wholesale trade continued to add jobs at roughly the same pace as earlier in the year.  Average hours of production or nonsupervisory workers on private nonfarm payrolls edged up in April but reversed these gains in May.  The unemployment rate was 4.6 percent in May, near its average for the year so far.   \r\n",
      "\r\n",
      "Industrial production edged down in May after strong growth in April, largely reflecting the patterns of manufacturing output.  For the year to date, manufacturing production advanced at a rate significantly below its rapid fourth-quarter growth rate but only a bit below its average pace of expansion since mid-2003.  The mining sector, which includes oil and natural gas extraction, expanded solidly in April before falling back in May.  Utilities output also grew strongly in April but retreated in May as temperatures returned to normal after having been unseasonably warm in April.  Capacity utilization in manufacturing remained somewhat above its long-run average in both April and May.  \r\n",
      "\r\n",
      "Real consumer spending appeared to be on track to decelerate noticeably in the current quarter after posting robust growth in the first quarter.  The slowing reflected both a marked reduction in the growth in real outlays for motor vehicles from an elevated first-quarter pace and a moderation in the advance of real expenditures for other goods in recent months.  Underlying this slowing in the expansion of consumer expenditures was a moderation in the fundamental determinants of spending.  The level of nominal wages and salaries beginning in the fourth quarter of 2005 was revised down considerably, and rising consumer prices held down the gains in real disposable income.  Higher interest rates also likely restrained spending.  Nonetheless, despite recent declines in equity prices, the wealth-to-income ratio remained well above its historical average, and consumer sentiment, which dipped in May, rebounded some in early June.  \r\n",
      "\r\n",
      "Residential construction activity moderated over the past few months but remained at a historically high level.  Single-family starts posted a sizable drop in May for the third consecutive month.  Although a substantial portion of May's decline seemed to be a partial payback for the elevated level of starts early in the year, when weather conditions had been favorable, the underlying pace of single-family housing construction appeared to have slowed.  In the multifamily sector, starts in May were well within the typical range seen since 1995.  Sales of both new and existing single-family homes in April and May were significantly below their peaks of the summer of 2005, though new home sales continued to regain some ground after having fallen in February.  The most reliable measures of house prices indicated modest growth following the rapid increases seen last year.   \r\n",
      "\r\n",
      "After a first-quarter surge, real spending on equipment and software appeared on track for a much smaller gain in the second quarter.  Incoming data for the current quarter suggested that spending on transportation equipment reversed the run-up that occurred in the first quarter.  Spending on high-tech equipment and software advanced at a slower pace in the second quarter as a flattening out of spending on communications equipment after a huge increase in the first quarter offset some pickup in business-sector demand for computers and software.  The construction of nonresidential buildings picked up noticeably so far this year, although activity remained well short of its previous peak in mid-2000.  Outlays on drilling and mining structures continued to climb in response to high projected energy prices.  \r\n",
      "\r\n",
      "The book value of manufacturing and trade inventories excluding motor vehicles stepped up in April.  The ratio of book-value inventories to sales held steady for the year so far after having fallen considerably last year.  In general, inventories appeared to be well aligned with demand, and business surveys suggested that firms were comfortable with the level of inventories. \r\n",
      "\r\n",
      "The U.S. international trade deficit widened in April, reflecting a large increase in imports coupled with a slight decline in exports.  Import growth was led by sharp rises in the value of imported oil and natural gas and increased imports of automotive products and capital goods.  Exports were restrained in part by a decline in aircraft exports.  Expansion of economic activity in the foreign industrial countries was solid in the first quarter, but indications for the second quarter were more mixed.  Incoming data pointed to a possible slowing in Canada, but signs of further expansion in the euro area and of continued growth in Japan were evident, notwithstanding sharp declines in equity indexes in these countries.   \r\n",
      "\r\n",
      "Headline inflation picked up in April and May, driven partly by sharp increases in the prices of petroleum-based products.  In contrast, natural gas prices continued to decline in response to excess supply, fully reversing last autumn's rises.  Higher oil prices showed through to producer prices for a variety of energy-intensive intermediate goods.  Consumer food prices decelerated markedly since January, reflecting slower price increases for food away from home and declines, on balance, in the prices of fruits and vegetables.  Core price inflation rose less than headline inflation in April and May but above its pace earlier in the year.  Core prices were boosted in part by an acceleration in shelter costs, especially those imputed for owner-occupied residences.  Readings on the growth of labor costs were revised down for the fourth quarter of 2005 and first quarter of 2006, but recent data suggested a pickup in the second quarter.  A number of indicators of inflation expectations largely reversed increases recorded in the spring.  \r\n",
      "\r\n",
      "At its May meeting, the Federal Open Market Committee (FOMC) decided to raise its target for the federal funds rate 25 basis points, to 5 percent.  The Committee's accompanying statement indicated that economic growth had been quite strong so far this year.  The Committee saw growth as likely to moderate to a more sustainable pace, partly reflecting a gradual cooling of the housing market and the lagged effects of increases in interest rates and energy prices.  At that time, the run-up in the prices of energy and other commodities appeared to have had only a modest effect on core inflation.  Ongoing productivity gains had helped to hold the growth of unit labor costs in check, and inflation expectations remained contained.  Still, possible increases in resource utilization and the elevated prices of energy and other commodities had the potential to add to inflation pressures.  In these circumstances, the Committee foresaw the possibility of a need for some further policy firming to address inflation risks but emphasized that the extent and timing of any such firming would depend importantly on the evolution of the economic outlook as implied by incoming information.  \r\n",
      "\r\n",
      "Investors anticipated the FOMC's decision at its May meeting to raise the federal funds rate target 25 basis points, but near-term policy expectations edged up, apparently in response to the accompanying statement.  Subsequent data releases reporting higher-than-expected inflation, the release of the FOMC minutes, and speeches by Federal Reserve policymakers all led investors to push up their expectations for the future path of the federal funds rate.  Yields on near-term nominal Treasury securities rose in line with policy expectations over the intermeeting period, but those on longer-dated securities moved up by smaller amounts.  Yields on inflation-indexed Treasury securities increased by more than those on nominal securities, and the resulting decline in inflation compensation retraced a substantial share of the rise that had occurred over the preceding intermeeting period.  Major stock price indexes fell sharply over the period.  Spreads of yields on corporate bonds over those on comparable-maturity Treasury securities widened somewhat, while those on speculative-grade issues rose by more.  \r\n",
      "\r\n",
      "After changing little on balance during much of May, the dollar's foreign exchange value against other major currencies moved up in June and showed a modest increase, on net, over the intermeeting period. The dollar appreciated after comments by FOMC policymakers that were interpreted by market participants as suggesting a higher likelihood of policy tightening at the June FOMC meeting.  Prices of precious and industrial metals, which had risen sharply since early March, particularly in May, reversed those gains later in the intermeeting period.  \r\n",
      "\r\n",
      "Debt of the domestic nonfinancial sectors was estimated to have decelerated in the second quarter after a robust first-quarter increase.  Business sector debt advanced more slowly in the second quarter, although the expansion of business loans remained brisk and net issuance of corporate bonds was solid.  In the household sector, mortgage borrowing slowed in response to more subdued housing activity and moderating house-price appreciation.  M2 growth in the second quarter was tepid, as the growth of nominal income had apparently softened and rising opportunity cost continued to dampen demand for money.  \r\n",
      "\r\n",
      "The staff forecast prepared for this meeting indicated that, after the significant deceleration of real GDP in the current quarter from the first quarter of 2006, growth would proceed through the end of 2007 at a pace a bit below the rate of growth of the economy's potential.  The outlook for modest growth of real GDP reflected a slowdown in the housing market, the effects of past policy tightening, and a diminished boost to consumer spending from increases in household wealth.  Core consumer price inflation was projected to have stepped up in the second quarter from its average pace over the preceding several quarters but to then drop back somewhat, albeit to a level higher than previously forecasted, as energy and import prices flatten out and some slack emerges in labor and product markets.  \r\n",
      "\r\n",
      "In their discussion of the economic situation and outlook, meeting participants saw economic growth as having moderated in the second quarter from its robust pace in the first quarter, reflecting a cooling of the housing market and the lagged effects of increases in interest rates and energy prices.  Most participants expected output to advance over the next year and a half at a pace close to that which the economy can sustain over time.  All participants found the elevated readings on core inflation of recent months to be of concern and, if sustained, inconsistent with the maintenance of price stability.  However, contained inflation expectations, the abatement of upward pressure from past increases in energy and other commodity prices, and the slowing in the growth of economic activity that was under way were expected to contribute to a moderation in core inflation in coming quarters.  Nonetheless, participants noted a risk that the drop-back in inflation could be slower or more limited than the Committee would find desirable since resource utilization was currently tight and the pickup in price increases had been broadly based rather than being limited to a few specific sectors that could be linked to energy costs.  \r\n",
      "\r\n",
      "In preparation for the Federal Reserve's semiannual report to the Congress on monetary policy, the members of the Board of Governors and the presidents of the Reserve Banks submitted individual projections of the growth of GDP, the rate of unemployment, and core consumer price inflation for 2006 and 2007, conditioned on the participants' views of the appropriate path for monetary policy.  The forecasts of the rate of fourth-quarter to fourth-quarter expansion in real GDP for 2006 were in a range of 3 to 3-3/4 percent, with a central tendency of 3-1/4 to 3-1/2 percent, and those for 2007 were in a range of 2-1/2 to 3-1/4 percent, with a central tendency of 3 to 3-1/4 percent.  These rates of growth were associated with a civilian unemployment rate in a range of 4-1/2 to 5 percent in the fourth quarter of this year and 4-1/4 to 5-1/4 percent in the fourth quarter of 2007, with a central tendency at both horizons of 4-3/4 to 5 percent.  Forecasts of the rate of inflation, as measured by the change in the average fourth-quarter core PCE price index from a year earlier, ranged from 2-1/4 to 3 percent for this year, with a central tendency of 2-1/4 to 2-1/2 percent, and the range and central tendency were 2 to 2-1/4 percent for next year.  \r\n",
      "\r\n",
      "In their discussion of the major sectors of the economy, participants observed that housing construction activity had declined notably in recent months as indicated by lower housing starts and permits; moreover, higher inventories of unsold homes, a sharp rise in cancellations of new home sales, and reports from construction companies suggested that the weakness was likely to be extended.  Several participants pointed out that the decline was broadly in line with expectations in light of the tightening in monetary policy and the rapid run-up in home prices and residential construction in recent years.  Participants also observed that the evidence to date indicated that the slowdown was orderly but were mindful of the possibility of a sharper downturn in the sector. \r\n",
      "\r\n",
      "The growth of consumer spending had dropped off significantly in the second quarter from a robust pace earlier in the year.  The slowdown was attributed in part to higher energy prices and also to a likely downshift in home price appreciation and higher interest rates.  A reduction in the attractiveness of home equity borrowing was mentioned as possibly contributing to the slowdown.  Some retailers, especially those catering to lower- and middle-income customers, reported weaker growth in sales.  Consumer spending was expected to advance modestly in coming quarters as the effects of more moderate gains in home prices and a gradual rebound in the household saving rate from recent historically low levels were offset by further gains in employment and growth in labor income.  A few participants noted that the surge in federal tax receipts this year and a similar advance in revenue at the state level could be a sign of vigorous gains in income, indicating that household spending may expand more rapidly than many were anticipating.  \r\n",
      "\r\n",
      "Participants interpreted the incoming data on orders and shipments of durable goods, positive readings on business sentiment, and continued high levels of corporate profitability as suggesting that business investment would remain a source of strength going forward.  In a shift from the pattern observed in the past few years, some contacts suggested that businesses were now directing their capital expenditures toward expanding capacity rather than increasing efficiency, a signal of the anticipation of continued solid growth in demand.  Business expenditures on nonresidential structures also were seen to be advancing robustly in a number of markets, possibly providing some offset to reduced residential construction activity.  Several participants observed that the continued ready availability of credit would support business expenditures.  Others, however, noted that the pullback from risk-taking that had been observed in some financial markets over the preceding few months could intensify, raising the cost of funds.  \r\n",
      "\r\n",
      "Participants observed that many foreign central banks had tightened monetary policy over the intermeeting period in response to strengthening activity and indications of inflation pressures.  Greater uncertainty about inflation pressures and the needed policy response had perhaps contributed to a reassessment of risks by investors globally.  Despite the tighter policy, however, economic growth in the United States' major trading partners appeared likely to remain solid, supporting U.S. exports.  Participants also discussed the role of global capacity utilization in the inflation process.  \r\n",
      "\r\n",
      "All meeting participants expressed concern about recent elevated readings on core inflation.  A key issue was the extent to which this spring's increase in inflation reflected transitory or persistent influences.  Many noted that a number of factors were temporarily boosting inflation.  The pass-through of the substantial rise in energy prices could account for a considerable part of the step-up in core inflation in recent quarters.  In addition, rising rents had been boosting the cost of shelter and so contributing to the increase in core inflation.  However, energy prices were expected to level out, and rents, while difficult to forecast, were viewed by some participants as likely to decelerate in coming quarters.  The moderation in the economic expansion was expected to prevent pressures on resource utilization from intensifying.  In sum, with inflation expectations contained and unit labor costs held down by ongoing gains in productivity and modest advances in compensation, inflation was seen by most participants as likely to edge down.    \r\n",
      "\r\n",
      "Nevertheless, several factors were cited as potentially sustaining upward pressure on inflation, and the range of participants' forecasts for core inflation in 2007 rose by 1/4 percentage point relative to the range of forecasts made in February.  Some participants noted that businesses in their Districts were experiencing difficulty hiring certain types of skilled workers, suggesting that increased wage pressures might emerge.  In addition, some business contacts indicated a greater ability to pass higher costs on to customers, although other businesses continued to report that their pricing power remained limited.  The relatively taut resource markets and the lagged effects of the increase in energy prices raised the possibility that inflation could continue at somewhat elevated levels for some time.  Higher levels of inflation, should they persist, could become embedded in inflation expectations.  In that vein, several participants noted that inflation expectations had been sensitive to incoming data and to communications regarding monetary policy over the intermeeting period.\r\n",
      "\r\n",
      "All Committee members agreed that raising the target for the federal funds rate 25 basis points, to 5-1/4 percent, at this meeting was appropriate given the recent readings on inflation and the associated deterioration in the inflation outlook.  Such an action would also help preserve the decline in inflation expectations that had occurred over the intermeeting period and which appeared to be conditioned on an outlook for a policy firming.  Characterizing the resulting stance of policy was quite difficult in the view of most members; those who did venture a judgment saw the stance as ranging from modestly restrictive to somewhat accommodative.  Many members noted that significant uncertainty accompanied the appropriate setting of policy going forward, and one indicated that the decision to raise the target federal funds rate at this meeting was a close call.  \r\n",
      "\r\n",
      "In their discussion of the wording of the statement to be released after the meeting, members expressed a wide range of views.  Some members favored a shorter statement that focused on the Committee's desire to see core inflation decline from its recent elevated levels, while others were inclined to provide more information about the forces that would likely influence the future path of policy.  In light of the possibility that the lessening of inflation pressures could be more limited than consistent with sustained good performance of the economy, members agreed to indicate that \"[a]lthough the moderation in the growth of aggregate demand should help to limit inflation pressures over time . . . some inflation risks remain.\"  Nevertheless, with the economy slowing and some of the effects of past tightening still in the pipeline, members recognized the value of accumulating more information for determining what, if any, additional policy action would be needed following the tightening adopted at the current meeting.  To indicate that policy action at future meetings was not foreordained and would depend on the forecasts for inflation and activity in the medium term, the Committee agreed to state that \"[t]he extent and timing of any additional firming that may be needed to address these risks will depend on the evolution of the outlook for both inflation and economic growth, as implied by incoming information.\"  \r\n",
      "\r\n",
      "After consulting with the participants, the communications subcommittee recommended that the Committee begin its discussions of communications issues at the FOMC meeting in August and that the FOMC meetings scheduled for later this year be lengthened to allow a fuller initial discussion of some of these issues.  The Committee also discussed briefly the schedule for FOMC meetings next year and tentatively agreed to increase the number of two-day meetings to four.  \r\n",
      "\r\n",
      "At the conclusion of the discussion, the Committee voted to authorize and direct the Federal Reserve Bank of New York, until it was instructed otherwise, to execute transactions in the System Account in accordance with the following domestic policy directive:\r\n",
      "\r\n",
      "\"The Federal Open Market Committee seeks monetary and financial conditions that will foster price stability and promote sustainable growth in output.  To further its long-run objectives, the Committee in the immediate future seeks conditions in reserve markets consistent with increasing the federal funds rate to an average of around 5-1/4 percent.\"\n",
      "The vote encompassed approval of the paragraph below for inclusion in the statement to be released shortly after the meeting:\n",
      "\"Although the moderation in the growth of aggregate demand should help to limit inflation pressures over time, the Committee judges that some inflation risks remain.  The extent and timing of any additional firming that may be needed to address these risks will depend on the evolution of the outlook for both inflation and economic growth, as implied by incoming information.  In any event, the Committee will respond to changes in economic prospects as needed to support the attainment of its objectives.\"\n",
      "Votes for this action:  Messrs. Bernanke and Geithner, \r\n",
      "Ms. Bies, Messrs. Guynn, Kohn, Kroszner, and Lacker,  \r\n",
      "Ms. Pianalto, Mr. Warsh, and Ms.Yellen.\n",
      "Votes against this action:  None.\n",
      "The meeting adjourned at 11:10 a.m. \r\n",
      "\r\n",
      "Notation Vote\r\n",
      "By notation vote completed on May 30, 2006, the Committee unanimously approved the minutes of the Federal Open Market Committee meeting held on May 10, 2006.  \r\n",
      "\n",
      "\n",
      "\n",
      "Vincent R. Reinhart\r\n",
      "          Secretary\n",
      "\n",
      "\n"
     ]
    }
   ],
   "source": [
    "print(txt[7].text)"
   ]
  },
  {
   "cell_type": "code",
   "execution_count": 38,
   "id": "702cd00c",
   "metadata": {},
   "outputs": [],
   "source": [
    "url = \"https://www.federalreserve.gov/fomc/minutes/20041110.htm\"\n",
    "selector = \"table > tr > td\"\n",
    "\n",
    "html = requests.get(url)\n",
    "soup = BeautifulSoup(html.text, \"lxml\")\n",
    "txt = soup.select(selector)\n"
   ]
  },
  {
   "cell_type": "code",
   "execution_count": 42,
   "id": "3da18a0b",
   "metadata": {},
   "outputs": [
    {
     "name": "stdout",
     "output_type": "stream",
     "text": [
      "\n",
      "By unanimous vote, the minutes of the meeting of the Federal Open Market Committee held on September 21, 2004, were approved.\n",
      "By unanimous vote, the Federal Open Market Committee approved the selection of Deborah J. Danker as Deputy Secretary of the Committee to serve until the selection of a successor at the first regularly scheduled meeting after December 31, 2004.\n",
      "The Manager of the System Open Market Account reported on recent developments in foreign exchange markets.  There were no open market operations in foreign currencies for the Systemï¿½s account in the period since the previous meeting.\n",
      "The Manager reported on recent developments in domestic financial markets and on System open market transactions in government securities and securities issued or fully guaranteed by federal agencies during the period September 21, 2004, through November 9, 2004.  By unanimous vote, the Committee ratified these transactions.\n",
      "The Manager also discussed the pressures on the federal funds rate prior to, and volatility in the rate that has ensued at times after, recent FOMC meetings as depository institutions sought to satisfy a larger portion of their reserve requirements before anticipated increases in the FOMCï¿½s target funds rate.  The Committee agreed that the Desk would continue to conduct open market operations as it has in such situations--leaning against anticipatory pressures in the funds market while taking account of the reserve management implications of such operations for the remainder of the reserve maintenance period.  \n",
      "The information received at this meeting suggested that the economy expanded at a moderate pace over the third quarter.  Low interest rates helped to maintain a buoyant housing market and spending by both consumers and businesses was firm.  Available information suggested that the recent tempo of economic activity continued into the current quarter despite the restraint imparted on real incomes and consumer confidence from higher oil prices.  However, industrial production was flat in recent months, and hiring activity was lackluster through September before advancing sharply in October.  Inflation measures continued at low levels through September.\n",
      "Employment gains were subdued in the third quarter, but showed substantial strength in October.  Job growth last month was fairly widespread, although heavy hiring in the construction sector was due partly to efforts to repair damage from the four hurricanes that hit the southeastern states.  Employment increases were particularly large in the financial and services sectors.  However, a small decline was registered in employment in the manufacturing sector.  The average workweek held steady in October at its third-quarter level and was a bit above the average for the second quarter.  Despite the strong increase in payroll employment, the household survey indicated a slight increase in the unemployment rate to 5.5 percent in October.\n",
      "Industrial production was about unchanged in September, likely restrained by the hurricanes that month.  A decline in manufacturing was about offset by a jump in utilities output and expansion in high-tech industries.  The available data suggested that industrial production rebounded in October.  Capacity utilization was unchanged in September at about the third-quarter average but was up from its level earlier in the year.\n",
      "Consumer spending advanced strongly in the third quarter from the sluggish pace of the second quarter.  The acceleration reflected a surge in expenditures on motor vehicles that owed partly to attractive incentives, but spending on other durables and nondurables was also up.  Spending on services was steady for the third quarter on average, but advanced in September on a boost to electricity consumption related to unseasonably warm weather.  Real disposable income slowed in the third quarter to a moderate pace and was flat in September, probably in part because of effects of the hurricanes.  Measures of consumer confidence moved down in September and again in October.  Activity in housing markets remained generally strong in September, supported by favorable mortgage rates.  Although starts of single-family homes slowed to well below the level of preceding months, multifamily starts rose and sales of both existing and new homes were elevated. \n",
      "Business investment spending on equipment and software continued to expand at a rapid pace in the third quarter, supported by positive fundamentals that included robust business output, low interest rates and readily available credit, and healthy business balance sheets.  Outlays for high-tech equipment and software stepped down in the third quarter, but spending on other types of equipment, including transportation, was at a high level.  At the same time, investment in nonresidential structures, which had turned up in the second quarter, softened in the third quarter.  Construction spending for retail buildings and warehouses advanced, but high vacancy rates for office buildings held back investment in that sector.\n",
      "Accumulation of nonfarm inventories excluding motor vehicles picked up smartly over the third quarter.  The level of sales also rose, however, keeping inventory-sales ratios fairly steady at low levels.\n",
      "The U.S. international trade deficit rose in the third quarter on average, reflecting some weakening in the growth of service exports and an increase in the price and quantity of petroleum imports.  The deficit narrowed in September, however, as imports fell while exports expanded moderately.  The lower level of imports in September mainly reflected declines in the petroleum and services categories.  Economic expansion abroad on average appeared to slow in the third quarter, although it remained solid.  \n",
      "Consumer prices continued to advance at a moderate rate in recent months, although both overall and core consumer price measures rose a bit faster in the twelve months ending in September 2004 than in the year-earlier period.  Expectations of near-term inflation picked up in October, consistent with the increase in energy prices.  Labor costs continued to rise moderately.  The increase in the employment cost index for private compensation over the third quarter was a bit below the average pace of the last two years.\n",
      "At its meeting of September 21, 2004, the Federal Open Market Committee adopted a directive that called for conditions in reserves markets consistent with increasing the federal funds rate to an average of around 1-ï¿½ percent.  In its public statement, the Committee expressed a belief that monetary policy remained accommodative even after this tightening, and judged the upside and downside risks to the attainment of both sustainable growth and price stability over the next few quarters to be roughly equal.  The Committee noted its expectation that the underlying rate of inflation would continue to be low and that policy accommodation could be removed at a pace that is likely to be measured, but also stated that it would nonetheless respond to changes in economic prospects as needed to fulfill its obligation to maintain price stability.\n",
      "The FOMCï¿½s decision in September to raise the intended level of the federal funds rate 25 basis points and its attendant public statement were anticipated by the market, and the reaction was muted.  Over subsequent weeks, however, a reference in the minutes of the August FOMC meeting to the need for \"significant cumulative tightening\" and comments by the Chairman and other FOMC members, which were read as minimizing the likely damping effect on the economy of higher energy prices, led markets to raise their expectations of forthcoming policy tightenings.  These expectations were boosted further by the release of the strong employment data for October.  The shift in the marketï¿½s outlook for monetary policy contributed to noticeable upward pressure on short-term interest rates, and most long-term rates also moved up.  Yields on investment-grade corporate bonds rose about in line with those on comparable-maturity Treasuries, but yields on speculative-grade bonds edged down and equity markets posted strong advances.  In foreign exchange markets, the dollar declined appreciably, apparently in part on continuing market concerns about the financing of the U.S. current account deficit.\n",
      "M2 expanded in October at about the sluggish pace of the third quarter.  The growth of M2 was restrained in recent months by increases in its opportunity cost.  Rates paid on its liquid asset components have lagged increases in market rates associated with the three monetary tightenings since midyear. \n",
      "In the staff forecast prepared for this meeting, the economy was seen as likely to expand next year at around this yearï¿½s solid pace under an assumption of generally accommodative financial conditions.  Recent declines in the dollar were expected to support domestic economic activity by boosting net exports.  Fiscal policy was expected to become much less stimulative after the current quarter, owing to the expiration of the temporary partial-expensing provisions of the tax code.  Oil prices were anticipated to decline somewhat with the repair of hurricane-related damage to oil infrastructure in the Gulf of Mexico, leading to some slowing in inflation.  With the economy expected to advance over the coming year at a rate a bit above its longer-run potential, the pace of hiring should firm and the unemployment rate should edge lower.  In response to rising real incomes, consumer spending was forecast to strengthen after the early part of next year.  The staff expected business investment spending to slow sharply early next year as partial-expensing provisions expired, but then to pick up noticeably in response to favorable financing conditions, ample business liquidity, and the need to replace or upgrade aging equipment and software.\n",
      "In the Committeeï¿½s discussion of current and prospective developments, the members generally expressed assessments that economic expansion in the neighborhood of the rate of growth of the economyï¿½s potential appeared to have become even more firmly established over recent months, despite the drag from higher energy prices.  Recent data and anecdotal information suggested that spending by businesses and households had been reasonably robust of late, supported by accommodative financial conditions, continuing gains in productivity, and increasing employment.  Looking forward, economic fundamentals appeared to be favorable for continued solid growth, and while fiscal stimulus would abate next year, a flattening out of energy prices, as markets seemed to anticipate, would bolster economic expansion.  However, significant uncertainties surrounded the prospects for energy prices and fiscal policy, as well as the external sector.  The Committee anticipated that underlying inflation pressures would remain contained as monetary accommodation was withdrawn.  Core consumer price inflation had been quite damped on average in recent months and longer-term inflation expectations remained well anchored, despite further increases in energy prices and prospective increases in near-term headline inflation.\n",
      "In their discussion of key sectors of the economy, policymakers noted that business investment had been expanding robustly and was likely to continue to be buoyed by the strength of productivity and profits.  Some sectors, such as trucks and heavy equipment, had experienced rapid growth.  However, even after taking account of likely effects of higher oil prices, the pace of overall business investment spending was still boosting GDP growth somewhat less than might have been expected given accommodative financial conditions and tax incentives.  Some uncertainties, such as those associated with the election, had been resolved, but others persisted, including the prospects for oil prices and their consequences for the economy.  Many business firms seemed hesitant about large-scale investment to increase productive capacity and hiring commitments, perhaps partly reflecting an environment of greater scrutiny regarding corporate governance and internal control systems.  The high-tech sector, and investment in information technology more generally, had been growing less rapidly of late and was seen as posing a possible downside risk to the outlook.  If the recent slower rate of price declines on high-tech products implied a softer underlying pace of technological change, both the outlook for investment demand and the prospects for persisting high trend growth in productivity could be damped relative to previous expectations.\n",
      "While acknowledging data indicating a rebound in consumption spending in recent months, Committee members reported contacts with retail merchants that suggested mixed readings on the ongoing pace of consumer buying.  The effect of higher energy prices on real incomes was likely still restraining consumer spending.  Moreover, the stock of automobiles owned by households had risen substantially in recent years, and the willingness of households to purchase autos was seen as continuing to depend importantly on the provision of incentives by manufacturers.  Home buying and residential construction generally remained robust, although a few members pointed to some moderation in activity in selected markets.  It was noted that a slowdown in the rate of increase in home prices going forward might lead households to increase their desired saving.  However, the risk of any significant drop-off in the growth of consumer spending would likely diminish with a sustained rebound in the pace of hiring.\n",
      "In their comments on fiscal policy, Committee members indicated an expectation that the economic stimulus provided in recent years by discretionary fiscal measures was likely to fade next year.  However, considerable uncertainty surrounded the likely evolution of the federal budget.  Members stressed the importance of fiscal discipline to facilitate a better balance between net national saving and investment and thereby promote an adjustment of the imbalance in the current account of the balance of payments.\n",
      "Committee members noted that the balance of trade had improved a little in September and commented that the decline in the value of the dollar over the past few years had been boosting demand seen by some exporting firms.  However, with foreign economic growth moderating and the large excess of imports over exports, members generally viewed the prospects for net exports as likely to provide a continuing drag on U.S. economic expansion.   One implication of this outlook was that U.S. external indebtedness relative to GDP would be increasing further.\n",
      "Committee members remarked on signs of improvement in labor market conditions.  While acknowledging the need to be cautious about readings from a single labor market report, members saw the increase in payroll employment in October and the upward revisions to previous months as encouraging.  Furthermore, business contacts in several regions were indicating greater difficulty in filling some types of positions, both skilled and unskilled.  Nevertheless, many firms evidently remained slow to expand hiring, in part because of rising benefit costs.  One member commented on the performance of a few key industries, citing evidence that the job losses since the business cycle peak had been driven primarily by weak demand rather than productivity improvements.  Although the extent of economic slack was uncertain, some members indicated a sense that the economy needed to grow faster than trend in order to take up remaining unused resources.\n",
      "Wage and price pressures were generally still modest.  While some firms reportedly were finding it easier to pass higher oil and other commodity costs on to their business customers, most business contacts indicated considerable difficulty in passing cost increases on to consumers.  Longer-term inflation expectations had remained reasonably low, helping to restrain the spillover of elevated energy prices to the prices of other goods and services.  Some members noted that any remaining resource slack would probably exert downward pressure on inflation and that the depreciation of the dollar seemed to be having a muted effect on import prices to date.  However, upside risks to the inflation outlook included possible further depreciation of the dollar or increases in energy prices.  In addition, a few members cited the possibility that the elevated pace of trend productivity growth experienced since the mid-1990s would begin to slow.\n",
      "In the Committeeï¿½s discussion of the setting of policy, all of the members favored raising the target for the federal funds rate by 25 basis points to 2 percent at this meeting.  The economy appeared to be continuing to expand at a moderate pace that was likely to be rapid enough to gradually reduce margins of underutilized resources.  In that regard, the Committee was encouraged by more evident signs of improvement in hiring.  The Committee felt that the outlook justified the further removal of the policy accommodation that had been appropriate when the economic expansion was more tentative.  Todayï¿½s action would move the real funds rate, measured using core PCE inflation, toward a more positive setting.\n",
      "In discussing the FOMC announcement for this meeting and going forward, several members commented that policy actions would likely become increasingly dependent on incoming data and their implications for future activity and prices.  This might imply a more gradual path of tightening going forward than that of the last several months, as for example now seemed to be built into the term structure of interest rates, or it might mean that the Committee on occasion would need to firm policy more rapidly.  A few members felt that, because of greater uncertainties, it might become appropriate eventually to move away from the recent practice of providing guidance about the likely future path of policy, while others emphasized the desirability of continuing to be as informative as possible about the Committeeï¿½s perceived outlook.  For now, most members agreed that the current statement language provided considerable flexibility with regard to the Committeeï¿½s future actions and that market participants understood that flexibility.  As regards the announcement to be released after the meeting, most members felt that little change in the statement language was required.  Policymakers concurred that the statement should indicate that output appears to be growing at a moderate pace despite the rise in energy prices, that labor market conditions have improved, and that inflation and longer-term inflation expectations remain well contained.  They agreed to characterize the risks to sustainable growth and price stability as balanced and to reiterate that policy accommodation could be removed at a pace that was likely to be measured but that the Committee will respond to changes in economic prospects as needed to maintain price stability.\n",
      "At the conclusion of the discussion, the Committee voted to authorize and direct the Federal Reserve Bank of New York, until it was instructed otherwise, to execute transactions in the System Account in accordance with the following domestic policy directive.\n",
      "\"The Federal Open Market Committee seeks monetary and financial conditions that will foster price stability and promote sustainable growth in output.  To further its long-run objectives, the Committee in the immediate future seeks conditions in reserve markets consistent with increasing the federal funds rate to an average of around 2 percent.\"\n",
      "The vote encompassed approval of the paragraph below for inclusion in the statement to be released shortly after the meeting:\n",
      "\"The Committee perceives the upside and downside risks to the attainment \r\n",
      "of both sustainable growth and price stability for the next few quarters to be\r\n",
      "roughly equal.  With underlying inflation expected to be relatively low, the\r\n",
      "Committee believes that policy accommodation can be removed at a pace that is\r\n",
      "likely to be measured.  Nonetheless, the Committee will respond to changes in \r\n",
      "economic prospects as needed to fulfill its obligation to maintain price stability.\"\n",
      "Votes for this action: Messrs. Greenspan, Geithner, Bernanke, Ms. Bies, Messrs. Ferguson, Gramlich, Hoenig, Kohn, Ms. Minehan, Mr. Olson, Ms. Pianalto, and Mr. Poole. \n",
      "Vote against this action: None. \n",
      "It was agreed that the next meeting of the Committee would be held on Tuesday, \r\n",
      "December 14, 2004.\n",
      "The meeting adjourned at 1:15 p.m. \n",
      "Notation Vote\n",
      "By notation vote completed on December 10, 2004, the Committee authorized \r\n",
      "Mr. Santomero, an alternate member of the Committee, to accept the honor of the title of \"Cavaliere\" to be awarded by the government of Italy. \n",
      "Votes for this action: Messrs. Greenspan, Geithner, Bernanke, Ms. Bies, Messrs. Ferguson, Gramlich, Hoenig, Kohn, Ms. Minehan, Mr. Olson, Ms. Pianalto, and Mr. Poole. \n",
      "Vote against this action: None. \n",
      "\n",
      "\n",
      "Vincent R. Reinhart\r\n",
      "          Secretary\n",
      "\n",
      "\n"
     ]
    }
   ],
   "source": [
    "print(txt[7].text)"
   ]
  },
  {
   "cell_type": "markdown",
   "id": "fa2cfc60",
   "metadata": {},
   "source": [
    "# 크롤링"
   ]
  },
  {
   "cell_type": "code",
   "execution_count": 3,
   "id": "e7799d2d",
   "metadata": {},
   "outputs": [
    {
     "name": "stdout",
     "output_type": "stream",
     "text": [
      "Developments in Financial Markets and Open Market Operations \r\n",
      "The manager turned first to a review of developments in financial markets over the intermeeting period. Financial conditions eased, driven by a decline in interest rates, an increase in equity prices, and a depreciation in the dollar. The rise in equity prices was supported by the decline in Treasury yields and by earnings growth that exceeded consensus expectations. Implied volatility for equities diminished notably. The easing in financial conditions reversed some of the tightening that occurred over the summer and much of the fall.\n"
     ]
    }
   ],
   "source": [
    "import requests\n",
    "from bs4 import BeautifulSoup\n",
    "\n",
    "def FOMC_crawling(date):\n",
    "    \"\"\"\n",
    "    FOMC 회의록을 크롤링하는 함수\n",
    "    \n",
    "    Args(str): 회의 일자\n",
    "    \n",
    "    Returns(str): 회의록 본문 텍스트 데이터\n",
    "\n",
    "    \"\"\"\n",
    "    #-------------FOMC 회의록 크롤링-------------#\n",
    "    \n",
    "    url = f\"https://www.federalreserve.gov/monetarypolicy/fomcminutes{date}.htm\"\n",
    "    selector = \"#article\"\n",
    "\n",
    "    html = requests.get(url)\n",
    "    html.encoding = \"UTF-8\"  # 글자 깨짐 방지\n",
    "    soup = BeautifulSoup(html.text, \"lxml\")\n",
    "    txt = soup.select(selector)[0].text\n",
    "    \n",
    "    #-----상한선과 하한선 설정 후 그 사이에 있는 텍스트만 추출-----#\n",
    "    \n",
    "    upper_line = \"Developments in Financial Markets and Open Market Operations\"\n",
    "    upper_line2 = \"Discussion of Financial Markets and Open Market Operations\"\n",
    "    upper_line3 = \"AUTHORIZATION FOR DOMESTIC OPEN MARKET OPERATIONS\" \n",
    "    upper_line4 = \"Developments in Financial Markets, Open Market Operations, and Policy Normalization\"\n",
    "    upper_line5 = \"Developments in Financial Markets and the Federal Reserve's Balance Sheet\"\n",
    "    lower_line = \"_______________________\"\n",
    "    \n",
    "    if upper_line in txt: \n",
    "        main_txt = upper_line + txt.split(upper_line)[1]\n",
    "    elif upper_line2 in txt: \n",
    "        main_txt = upper_line2 + txt.split(upper_line2)[1]\n",
    "    elif upper_line3 in txt: \n",
    "        main_txt = upper_line3 + txt.split(upper_line3)[1]\n",
    "    elif upper_line4 in txt: \n",
    "        main_txt = upper_line4 + txt.split(upper_line4)[1]\n",
    "    else:\n",
    "        main_txt = upper_line5 + txt.split(upper_line5)[1]\n",
    "        \n",
    "    main_txt2 = main_txt.split(lower_line)[0]\n",
    "\n",
    "    return main_txt2\n",
    "\n",
    "if __name__ == \"__main__\":\n",
    "    test_txt = FOMC_crawling(\"20231213\")\n",
    "    print(test_txt[:603])"
   ]
  },
  {
   "cell_type": "code",
   "execution_count": 4,
   "id": "995fab68",
   "metadata": {},
   "outputs": [
    {
     "name": "stdout",
     "output_type": "stream",
     "text": [
      "95\n"
     ]
    }
   ],
   "source": [
    "# 회의 날짜 -> 각각의 url 코드에 사용\n",
    "meeting_dates = [\"20231213\", \"20231101\", \"20230920\", \"20230726\", \"20230614\", \n",
    "                 \"20230503\", \"20230322\", \"20230201\", \"20221214\", \"20221102\",\n",
    "                 \"20220921\", \"20220727\", \"20220615\", \"20220504\", \"20220316\",\n",
    "                 \"20220126\", \"20211215\", \"20211103\", \"20210922\", \"20210728\",\n",
    "                 \"20210616\", \"20210428\", \"20210317\", \"20210127\", \"20201216\",\n",
    "                 \"20201105\", \"20200916\", \"20200729\", \"20200610\", \"20200429\",\n",
    "                 \"20200315\", \"20200129\", \"20191211\", \"20191030\", \"20190918\",\n",
    "                 \"20190731\", \"20190619\", \"20190501\", \"20190320\", \"20190130\", # test 40부터 테스트\n",
    "                 \"20181219\", \"20181108\", \"20180926\", \"20180801\", \"20180613\",\n",
    "                 \"20180502\", \"20180321\", \"20180131\", \"20171213\", \"20171101\",\n",
    "                 \"20170920\", \"20170726\", \"20170614\", \"20170503\", \"20170315\",\n",
    "                 \"20170201\", \"20161214\", \"20161102\", \"20160921\", \"20160727\",\n",
    "                 \"20160615\", \"20160427\", \"20160316\", \"20160127\", \"20151216\",\n",
    "                 \"20151028\", \"20150917\", \"20150729\", \"20150617\", \"20150429\", # 65부터 테스트\n",
    "                 \"20150318\", \"20150128\", \"20141217\", \"20141029\", \"20140917\",\n",
    "                 \"20140730\", \"20140618\", \"20140430\", \"20140319\", \"20140129\",\n",
    "                 \"20131218\", \"20131030\", \"20130918\", \"20130731\", \"20130619\",\n",
    "                 \"20130501\", \"20130320\", \"20130130\", \"20121212\", \"20121024\",\n",
    "                 \"20120913\", \"20120801\", \"20120620\", \"20120425\", \"20120313\"]\n",
    "\n",
    "print(len(meeting_dates))"
   ]
  },
  {
   "cell_type": "code",
   "execution_count": 5,
   "id": "111188f6",
   "metadata": {},
   "outputs": [
    {
     "data": {
      "application/vnd.jupyter.widget-view+json": {
       "model_id": "fe6ce10c9d9b4dd2bd18921eef298966",
       "version_major": 2,
       "version_minor": 0
      },
      "text/plain": [
       "  0%|          | 0/95 [00:00<?, ?it/s]"
      ]
     },
     "metadata": {},
     "output_type": "display_data"
    }
   ],
   "source": [
    "# 리스트에 각각의 문서의 본문 텍스트 데이터 저장\n",
    "from tqdm.notebook import tqdm\n",
    "\n",
    "doc_lst = []\n",
    "\n",
    "for date in tqdm(meeting_dates):\n",
    "#     print(date)\n",
    "    txt = FOMC_crawling(date)\n",
    "    doc_lst.append(txt)\n"
   ]
  },
  {
   "cell_type": "markdown",
   "id": "8d47674c",
   "metadata": {},
   "source": [
    "# 토큰화"
   ]
  },
  {
   "cell_type": "code",
   "execution_count": 6,
   "id": "798ec4af",
   "metadata": {},
   "outputs": [
    {
     "name": "stderr",
     "output_type": "stream",
     "text": [
      "C:\\Users\\user\\anaconda3\\lib\\site-packages\\scipy\\__init__.py:155: UserWarning: A NumPy version >=1.18.5 and <1.25.0 is required for this version of SciPy (detected version 1.26.2\n",
      "  warnings.warn(f\"A NumPy version >={np_minversion} and <{np_maxversion}\"\n"
     ]
    },
    {
     "name": "stdout",
     "output_type": "stream",
     "text": [
      "[['Developments', 'in', 'Financial', 'Markets', 'and', 'Open', 'Market', 'Operations', 'The', 'manager', 'turned', 'first', 'to', 'a', 'review', 'of', 'developments', 'in', 'financial', 'markets', 'over', 'the', 'intermeeting', 'period', '.'], ['Financial', 'conditions', 'eased', ',', 'driven', 'by', 'a', 'decline', 'in', 'interest', 'rates', ',', 'an', 'increase', 'in', 'equity', 'prices', ',', 'and', 'a', 'depreciation', 'in', 'the', 'dollar', '.'], ['The', 'rise', 'in', 'equity', 'prices', 'was', 'supported', 'by', 'the', 'decline', 'in', 'Treasury', 'yields', 'and', 'by', 'earnings', 'growth', 'that', 'exceeded', 'consensus', 'expectations', '.']]\n"
     ]
    }
   ],
   "source": [
    "from nltk.tokenize import sent_tokenize, word_tokenize\n",
    "\n",
    "def FOMC_tokenize(doc):\n",
    "    \"\"\"\n",
    "    문서 내의 텍스트를 토큰화하는 함수\n",
    "    \n",
    "    Args(str): 회의록 본문 텍스트 데이터\n",
    "    \n",
    "    Returns(list): 문장 단위, 단어 단위로 토큰화 된 2차원 리스트\n",
    "    \"\"\"\n",
    "    \n",
    "    #-------------문장 단위 토큰화-------------#\n",
    "    sent_tokens = sent_tokenize(doc)\n",
    "    \n",
    "    \n",
    "    #-------------단어 단위 토큰화-------------#\n",
    "    word_tokens = [word_tokenize(sentence) for sentence in sent_tokens]\n",
    "    \n",
    "    return word_tokens\n",
    "\n",
    "if __name__ == \"__main__\":\n",
    "    word_tokens = FOMC_tokenize(doc_lst[0])\n",
    "    print(word_tokens[:3])\n",
    "    "
   ]
  },
  {
   "cell_type": "code",
   "execution_count": 7,
   "id": "64313285",
   "metadata": {},
   "outputs": [
    {
     "data": {
      "application/vnd.jupyter.widget-view+json": {
       "model_id": "a85c0510692c41359df023f551661613",
       "version_major": 2,
       "version_minor": 0
      },
      "text/plain": [
       "  0%|          | 0/95 [00:00<?, ?it/s]"
      ]
     },
     "metadata": {},
     "output_type": "display_data"
    }
   ],
   "source": [
    "# 리스트에 각각의 문서의 토큰화된 본문 텍스트 데이터 저장\n",
    "tokenized_doc_lst = []\n",
    "\n",
    "for doc in tqdm(doc_lst):\n",
    "    tokenized_doc = FOMC_tokenize(doc)\n",
    "    tokenized_doc_lst.append(tokenized_doc)\n",
    "    "
   ]
  },
  {
   "cell_type": "code",
   "execution_count": 9,
   "id": "5877cb2f",
   "metadata": {},
   "outputs": [
    {
     "name": "stdout",
     "output_type": "stream",
     "text": [
      "[['Developments', 'in', 'Financial', 'Markets', 'and', 'Open', 'Market', 'Operations', 'The', 'manager', 'turned', 'first', 'to', 'a', 'review', 'of', 'developments', 'in', 'financial', 'markets', 'over', 'the', 'intermeeting', 'period', '.'], ['Financial', 'conditions', 'eased', ',', 'driven', 'by', 'a', 'decline', 'in', 'interest', 'rates', ',', 'an', 'increase', 'in', 'equity', 'prices', ',', 'and', 'a', 'depreciation', 'in', 'the', 'dollar', '.']]\n",
      "------------------------------------------------------------\n",
      "문서 개수: 95\n",
      "문장 개수: 25106\n",
      "문장 개수: 778990\n"
     ]
    }
   ],
   "source": [
    "import itertools\n",
    "\n",
    "# 문장 단위로 저장된 2차원 데이터\n",
    "sentence_tokens = list(itertools.chain(*tokenized_doc_lst))\n",
    "# 단어 단위로 저장된 1차원 데이터\n",
    "word_tokens = list(itertools.chain(*sentence_tokens))\n",
    "\n",
    "print(tokenized_doc_lst[0][:2])\n",
    "print(\"------------------------------------------------------------\")\n",
    "print(\"문서 개수:\", len(tokenized_doc_lst))\n",
    "print(\"문장 개수:\", len(sentence_tokens))\n",
    "print(\"단어 개수:\", len(word_tokens))\n"
   ]
  },
  {
   "cell_type": "markdown",
   "id": "47678a38",
   "metadata": {},
   "source": [
    "# Word2Vec"
   ]
  },
  {
   "cell_type": "code",
   "execution_count": 14,
   "id": "56cee211",
   "metadata": {},
   "outputs": [],
   "source": [
    "from gensim.models import Word2Vec\n",
    "\n",
    "model = Word2Vec(sentence_tokens, vector_size=500, window=5, min_count=5, workers=4)"
   ]
  },
  {
   "cell_type": "code",
   "execution_count": 15,
   "id": "ee6e1a37",
   "metadata": {},
   "outputs": [
    {
     "name": "stdout",
     "output_type": "stream",
     "text": [
      "['the', ',', '.', 'of', 'in', 'and', 'to', 'that', 'a', 'for', 'on', 'inflation', 'Committee', 'as', 'rate', 'was', 'The', 'at', 'participants', \"'s\"]\n",
      "4340\n"
     ]
    }
   ],
   "source": [
    "# 임베딩된 단어 벡터 추출\n",
    "word_vectors = model.wv\n",
    "\n",
    "# 모델에 포함된 모든 단어들을 얻기\n",
    "words = list(word_vectors.key_to_index.keys())\n",
    "\n",
    "# 단어들 출력\n",
    "print(words[:20])\n",
    "print(len(words))"
   ]
  },
  {
   "cell_type": "code",
   "execution_count": 16,
   "id": "423fc98a",
   "metadata": {},
   "outputs": [
    {
     "name": "stdout",
     "output_type": "stream",
     "text": [
      "[-0.5379805   0.3309589   0.34410438  0.66475385 -0.71483195 -1.1962577\n",
      "  0.32823837 -0.22933301 -0.537966   -0.00320659 -0.08531485  0.18824793\n",
      " -0.63304794 -0.08955514  0.34325454  0.45615113 -0.37901092  0.24031207\n",
      "  0.97446567  0.47564745]\n",
      "[('longer-run', 0.5862677097320557), ('objective', 0.5525201559066772), ('stay', 0.5336916446685791), ('goal', 0.5179406404495239), ('running', 0.5096482038497925), ('Inflation', 0.5056201219558716), ('2', 0.4960033595561981), ('anchored', 0.48972374200820923), ('remain', 0.4884224832057953), ('run', 0.4850694239139557)]\n"
     ]
    }
   ],
   "source": [
    "# 임베딩된 단어 벡터를 얻기\n",
    "word_vectors = model.wv\n",
    "\n",
    "# 특정 단어에 대한 벡터를 가져오기\n",
    "print(word_vectors['inflation'][:20])\n",
    "\n",
    "# 비슷한 단어 찾기\n",
    "print(word_vectors.most_similar('inflation'))"
   ]
  },
  {
   "cell_type": "code",
   "execution_count": null,
   "id": "679e09b9",
   "metadata": {},
   "outputs": [],
   "source": []
  }
 ],
 "metadata": {
  "kernelspec": {
   "display_name": "Python 3 (ipykernel)",
   "language": "python",
   "name": "python3"
  },
  "language_info": {
   "codemirror_mode": {
    "name": "ipython",
    "version": 3
   },
   "file_extension": ".py",
   "mimetype": "text/x-python",
   "name": "python",
   "nbconvert_exporter": "python",
   "pygments_lexer": "ipython3",
   "version": "3.9.13"
  }
 },
 "nbformat": 4,
 "nbformat_minor": 5
}
